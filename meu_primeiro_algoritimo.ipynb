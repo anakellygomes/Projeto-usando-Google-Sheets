{
  "nbformat": 4,
  "nbformat_minor": 0,
  "metadata": {
    "colab": {
      "provenance": [],
      "authorship_tag": "ABX9TyP4O9JBMwVYv/VhPTUbIcYe",
      "include_colab_link": true
    },
    "kernelspec": {
      "name": "python3",
      "display_name": "Python 3"
    },
    "language_info": {
      "name": "python"
    }
  },
  "cells": [
    {
      "cell_type": "markdown",
      "metadata": {
        "id": "view-in-github",
        "colab_type": "text"
      },
      "source": [
        "<a href=\"https://colab.research.google.com/github/anakellygomes/Projeto-usando-Google-Sheets/blob/main/meu_primeiro_algoritimo.ipynb\" target=\"_parent\"><img src=\"https://colab.research.google.com/assets/colab-badge.svg\" alt=\"Open In Colab\"/></a>"
      ]
    },
    {
      "cell_type": "code",
      "execution_count": null,
      "metadata": {
        "colab": {
          "base_uri": "https://localhost:8080/"
        },
        "id": "oGE-d4gqjLsA",
        "outputId": "7c492e58-74d7-4c06-9dba-c7dec21c7352"
      },
      "outputs": [
        {
          "output_type": "stream",
          "name": "stdout",
          "text": [
            "olá mundo\n"
          ]
        }
      ],
      "source": [
        "print('olá mundo')"
      ]
    },
    {
      "cell_type": "markdown",
      "source": [
        "#Operadores Aritimeticos\n",
        "## Subtitulo"
      ],
      "metadata": {
        "id": "Bl8rCiaxkcOI"
      }
    },
    {
      "cell_type": "markdown",
      "source": [],
      "metadata": {
        "id": "gHbz4fnElbnn"
      }
    },
    {
      "cell_type": "code",
      "source": [
        "#adição\n",
        "10+2"
      ],
      "metadata": {
        "id": "TaeSctvillM3",
        "colab": {
          "base_uri": "https://localhost:8080/"
        },
        "outputId": "ce3b5a98-b7f1-4993-d5b0-4e83cd0922fc"
      },
      "execution_count": null,
      "outputs": [
        {
          "output_type": "execute_result",
          "data": {
            "text/plain": [
              "12"
            ]
          },
          "metadata": {},
          "execution_count": 5
        }
      ]
    },
    {
      "cell_type": "code",
      "source": [
        "#subtraçaõ\n",
        "10-2"
      ],
      "metadata": {
        "colab": {
          "base_uri": "https://localhost:8080/"
        },
        "id": "BVN75-2ap2-2",
        "outputId": "b083f70a-9400-4366-c55f-915a21bd11e3"
      },
      "execution_count": null,
      "outputs": [
        {
          "output_type": "execute_result",
          "data": {
            "text/plain": [
              "8"
            ]
          },
          "metadata": {},
          "execution_count": 6
        }
      ]
    },
    {
      "cell_type": "code",
      "source": [
        "#multiplicação\n",
        "10*2"
      ],
      "metadata": {
        "colab": {
          "base_uri": "https://localhost:8080/"
        },
        "id": "_u2Wq2nfrWiN",
        "outputId": "dbad4a9c-a22e-43cf-9278-629577df1beb"
      },
      "execution_count": null,
      "outputs": [
        {
          "output_type": "execute_result",
          "data": {
            "text/plain": [
              "20"
            ]
          },
          "metadata": {},
          "execution_count": 10
        }
      ]
    },
    {
      "cell_type": "code",
      "source": [
        "#divisão\n",
        "10/2"
      ],
      "metadata": {
        "colab": {
          "base_uri": "https://localhost:8080/"
        },
        "id": "et0xXxphrtAU",
        "outputId": "ede5fbe2-7dd0-410d-9d53-3eed33b56a4c"
      },
      "execution_count": null,
      "outputs": [
        {
          "output_type": "execute_result",
          "data": {
            "text/plain": [
              "5.0"
            ]
          },
          "metadata": {},
          "execution_count": 12
        }
      ]
    },
    {
      "cell_type": "code",
      "source": [
        "#divisão inteira\n",
        "10//2"
      ],
      "metadata": {
        "colab": {
          "base_uri": "https://localhost:8080/"
        },
        "id": "dejyyyAlsAMV",
        "outputId": "e2479833-32ca-4c2f-e21a-337e0d7ec46a"
      },
      "execution_count": null,
      "outputs": [
        {
          "output_type": "execute_result",
          "data": {
            "text/plain": [
              "5"
            ]
          },
          "metadata": {},
          "execution_count": 14
        }
      ]
    },
    {
      "cell_type": "code",
      "source": [
        "#resto de divisão\n",
        "10%2"
      ],
      "metadata": {
        "colab": {
          "base_uri": "https://localhost:8080/"
        },
        "id": "AcVaSeETsHDx",
        "outputId": "159d5c5d-8bc6-464a-c9f1-6a6373243f1f"
      },
      "execution_count": null,
      "outputs": [
        {
          "output_type": "execute_result",
          "data": {
            "text/plain": [
              "0"
            ]
          },
          "metadata": {},
          "execution_count": 15
        }
      ]
    },
    {
      "cell_type": "code",
      "source": [
        "#potencialização\n",
        "10**2"
      ],
      "metadata": {
        "colab": {
          "base_uri": "https://localhost:8080/"
        },
        "id": "YlysSxsKsdDR",
        "outputId": "170adb53-5a14-4795-ffde-b0ce2ea939b4"
      },
      "execution_count": null,
      "outputs": [
        {
          "output_type": "execute_result",
          "data": {
            "text/plain": [
              "100"
            ]
          },
          "metadata": {},
          "execution_count": 17
        }
      ]
    },
    {
      "cell_type": "markdown",
      "source": [
        "#Operadores Relacionais\n"
      ],
      "metadata": {
        "id": "5HLXycodst5H"
      }
    },
    {
      "cell_type": "code",
      "source": [
        "#Menor\n",
        "10<2"
      ],
      "metadata": {
        "colab": {
          "base_uri": "https://localhost:8080/"
        },
        "id": "2aQJ1gd1s2BM",
        "outputId": "a019f518-e00c-4619-c9f4-70aa8b73c089"
      },
      "execution_count": null,
      "outputs": [
        {
          "output_type": "execute_result",
          "data": {
            "text/plain": [
              "False"
            ]
          },
          "metadata": {},
          "execution_count": 18
        }
      ]
    },
    {
      "cell_type": "code",
      "source": [
        "#maior\n",
        "10>2\n"
      ],
      "metadata": {
        "colab": {
          "base_uri": "https://localhost:8080/"
        },
        "id": "jXhIN7VqtFMH",
        "outputId": "b8023a2e-99b1-45d5-9c97-d667a8c84840"
      },
      "execution_count": null,
      "outputs": [
        {
          "output_type": "execute_result",
          "data": {
            "text/plain": [
              "True"
            ]
          },
          "metadata": {},
          "execution_count": 19
        }
      ]
    },
    {
      "cell_type": "code",
      "source": [
        "#maior ou igual\n",
        "10>-2"
      ],
      "metadata": {
        "colab": {
          "base_uri": "https://localhost:8080/"
        },
        "id": "LiIBcV-KtOLh",
        "outputId": "2e317c9b-3090-4498-cb37-1ad687e5a942"
      },
      "execution_count": null,
      "outputs": [
        {
          "output_type": "execute_result",
          "data": {
            "text/plain": [
              "True"
            ]
          },
          "metadata": {},
          "execution_count": 22
        }
      ]
    },
    {
      "cell_type": "code",
      "source": [
        "#igual\n",
        "10==10"
      ],
      "metadata": {
        "id": "80bT93c2xX4O",
        "outputId": "0d0e48a6-48c4-4bc1-d14f-21ee64c69164",
        "colab": {
          "base_uri": "https://localhost:8080/"
        }
      },
      "execution_count": null,
      "outputs": [
        {
          "output_type": "execute_result",
          "data": {
            "text/plain": [
              "True"
            ]
          },
          "metadata": {},
          "execution_count": 37
        }
      ]
    },
    {
      "cell_type": "code",
      "source": [
        "#diferente\n",
        "7!=7"
      ],
      "metadata": {
        "colab": {
          "base_uri": "https://localhost:8080/"
        },
        "id": "Hpduw-tBuNjD",
        "outputId": "b084aa56-5a19-4dd9-b53d-7049b675f864"
      },
      "execution_count": null,
      "outputs": [
        {
          "output_type": "execute_result",
          "data": {
            "text/plain": [
              "False"
            ]
          },
          "metadata": {},
          "execution_count": 28
        }
      ]
    },
    {
      "cell_type": "markdown",
      "source": [
        "#Operadores Lógicos\n",
        "##.And\n",
        "##.Or\n",
        "##.Not"
      ],
      "metadata": {
        "id": "18Th4iX3vdEV"
      }
    },
    {
      "cell_type": "code",
      "source": [
        "print( 10>2 and 4<6)"
      ],
      "metadata": {
        "colab": {
          "base_uri": "https://localhost:8080/"
        },
        "id": "jOBaE_Hwv22F",
        "outputId": "962838a2-ac5b-4aa2-e90b-13572e5d81cf"
      },
      "execution_count": null,
      "outputs": [
        {
          "output_type": "stream",
          "name": "stdout",
          "text": [
            "True\n"
          ]
        }
      ]
    },
    {
      "cell_type": "code",
      "source": [
        "print(10>2 and 4>6)"
      ],
      "metadata": {
        "colab": {
          "base_uri": "https://localhost:8080/"
        },
        "id": "HUodLELPwZxS",
        "outputId": "498696be-e258-48cb-c23c-b84d787b647b"
      },
      "execution_count": null,
      "outputs": [
        {
          "output_type": "stream",
          "name": "stdout",
          "text": [
            "False\n"
          ]
        }
      ]
    },
    {
      "cell_type": "code",
      "source": [
        "print(10>2 or 4<6)"
      ],
      "metadata": {
        "colab": {
          "base_uri": "https://localhost:8080/"
        },
        "id": "eeZkyQXSwkg7",
        "outputId": "583c0067-c80c-46cb-cd45-33cae282d4e3"
      },
      "execution_count": null,
      "outputs": [
        {
          "output_type": "stream",
          "name": "stdout",
          "text": [
            "True\n"
          ]
        }
      ]
    },
    {
      "cell_type": "code",
      "source": [
        "not 10>2"
      ],
      "metadata": {
        "colab": {
          "base_uri": "https://localhost:8080/"
        },
        "id": "Qu2vJUjRviv7",
        "outputId": "29ad6a92-efe4-4ff6-cb0e-d29e78c3bfce"
      },
      "execution_count": null,
      "outputs": [
        {
          "output_type": "execute_result",
          "data": {
            "text/plain": [
              "False"
            ]
          },
          "metadata": {},
          "execution_count": 36
        }
      ]
    },
    {
      "cell_type": "markdown",
      "source": [
        "# Visualização de Variáveis e textos\n",
        "\n"
      ],
      "metadata": {
        "id": "GCQYbmHbmq3O"
      }
    },
    {
      "cell_type": "code",
      "source": [
        "print ('conhecendo o comando print')\n",
        "x=8\n",
        "print(x)"
      ],
      "metadata": {
        "colab": {
          "base_uri": "https://localhost:8080/"
        },
        "id": "0m2X6s1Irngg",
        "outputId": "6762a44a-c897-4e80-f0f6-5c98fc72472f"
      },
      "execution_count": null,
      "outputs": [
        {
          "output_type": "stream",
          "name": "stdout",
          "text": [
            "conhecendo o comando print\n",
            "8\n"
          ]
        }
      ]
    },
    {
      "cell_type": "code",
      "source": [
        "y=10\n",
        "soma=x+y\n",
        "print(soma)"
      ],
      "metadata": {
        "colab": {
          "base_uri": "https://localhost:8080/"
        },
        "id": "ac6a209Pr7dw",
        "outputId": "f14f795d-27ba-4be3-bf12-d9e8510c02ea"
      },
      "execution_count": null,
      "outputs": [
        {
          "output_type": "stream",
          "name": "stdout",
          "text": [
            "18\n"
          ]
        }
      ]
    },
    {
      "cell_type": "code",
      "source": [
        "nome= 'ana gomes'\n",
        "print(nome)"
      ],
      "metadata": {
        "colab": {
          "base_uri": "https://localhost:8080/"
        },
        "id": "MtLIr40PsJ7L",
        "outputId": "5feba115-c55c-4514-bda7-974480f89bc9"
      },
      "execution_count": null,
      "outputs": [
        {
          "output_type": "stream",
          "name": "stdout",
          "text": [
            "ana gomes\n"
          ]
        }
      ]
    },
    {
      "cell_type": "markdown",
      "source": [
        "##concatenação"
      ],
      "metadata": {
        "id": "bw93PsNms4FI"
      }
    },
    {
      "cell_type": "code",
      "source": [
        "x=5\n",
        "print('o valor de x é', x)"
      ],
      "metadata": {
        "colab": {
          "base_uri": "https://localhost:8080/"
        },
        "id": "zNH4mv7vs6UJ",
        "outputId": "e01f8eb1-e8b5-493a-826f-a3c593671b32"
      },
      "execution_count": null,
      "outputs": [
        {
          "output_type": "stream",
          "name": "stdout",
          "text": [
            "o valor de x é 5\n"
          ]
        }
      ]
    },
    {
      "cell_type": "code",
      "source": [
        "print(' o valor de x é', x , 'e o dobro é', x * 2)"
      ],
      "metadata": {
        "colab": {
          "base_uri": "https://localhost:8080/"
        },
        "id": "1otkLQDSuvYV",
        "outputId": "f22c9c6c-042b-4bc6-f5f0-a2103ad61310"
      },
      "execution_count": null,
      "outputs": [
        {
          "output_type": "stream",
          "name": "stdout",
          "text": [
            " o valor de x é 5 e o dobro é 10\n"
          ]
        }
      ]
    },
    {
      "cell_type": "code",
      "source": [
        "print ('Eu,', nome , 'tirei', x , 'na prova de phyton')"
      ],
      "metadata": {
        "colab": {
          "base_uri": "https://localhost:8080/"
        },
        "id": "a-HjPC_MvM9g",
        "outputId": "59b38716-0537-409f-ef93-f72ec9cb7f54"
      },
      "execution_count": null,
      "outputs": [
        {
          "output_type": "stream",
          "name": "stdout",
          "text": [
            "Eu, ana gomes tirei 5 na prova de phyton\n"
          ]
        }
      ]
    },
    {
      "cell_type": "markdown",
      "source": [
        "##input\n",
        "\n",
        "\n",
        "*   armazena informações do usuário dentro de uma variável\n",
        "*   O dado armazenado dempre será texto\n",
        "\n",
        "\n",
        "\n",
        "\n"
      ],
      "metadata": {
        "id": "WzbBSDO_CTm_"
      }
    },
    {
      "cell_type": "code",
      "source": [
        "nome= input('digite o nome do usuário') # aguardando o usuário digitar algo\n"
      ],
      "metadata": {
        "colab": {
          "base_uri": "https://localhost:8080/"
        },
        "id": "3vpZjXwaCrM-",
        "outputId": "d240d364-ff8f-4a09-a6c9-6030c7b78dd3"
      },
      "execution_count": 3,
      "outputs": [
        {
          "name": "stdout",
          "output_type": "stream",
          "text": [
            "digite o nome do usuário ana kelly\n"
          ]
        }
      ]
    },
    {
      "cell_type": "code",
      "source": [
        "valor= input('digite o valor da nota')\n",
        "print(nome, 'sua nota foi', valor)"
      ],
      "metadata": {
        "colab": {
          "base_uri": "https://localhost:8080/"
        },
        "id": "PccUd5B7Er12",
        "outputId": "af3460df-9f6b-43d9-9930-c4e7e5aff7db"
      },
      "execution_count": 4,
      "outputs": [
        {
          "output_type": "stream",
          "name": "stdout",
          "text": [
            "digite o valor da nota7\n",
            " ana kelly sua nota foi 7\n"
          ]
        }
      ]
    },
    {
      "cell_type": "code",
      "source": [
        "valor= input('digite o valor do produto')\n",
        "print(valor)"
      ],
      "metadata": {
        "colab": {
          "base_uri": "https://localhost:8080/"
        },
        "id": "JADIbGyOFDHW",
        "outputId": "700d8aa9-58f5-4263-cd2c-e9e988e98076"
      },
      "execution_count": 5,
      "outputs": [
        {
          "output_type": "stream",
          "name": "stdout",
          "text": [
            "digite o valor do produto100\n",
            "100\n"
          ]
        }
      ]
    },
    {
      "cell_type": "markdown",
      "source": [
        "##condocinal\n",
        "\n",
        "\n",
        "*   If\n",
        "*   If/Else\n",
        "*If/ Elif/Else\n",
        "*Operadores Lógicos\n",
        "    \n",
        "\n",
        "\n",
        "\n",
        "\n",
        "\n",
        "\n",
        "\n",
        "\n",
        "\n",
        "\n",
        "\n"
      ],
      "metadata": {
        "id": "1mE0wszWKbxU"
      }
    },
    {
      "cell_type": "code",
      "source": [
        "#If\n"
      ],
      "metadata": {
        "id": "0ypITJAqKbZu"
      },
      "execution_count": null,
      "outputs": []
    }
  ]
}